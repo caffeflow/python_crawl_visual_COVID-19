{
 "cells": [
  {
   "cell_type": "markdown",
   "metadata": {},
   "source": [
    "python 3.7  \n",
    "matplotlib   pyecharts"
   ]
  },
  {
   "cell_type": "markdown",
   "metadata": {},
   "source": [
    "目的：分别采用matplotlib 和 pyecharts 绘图 "
   ]
  },
  {
   "cell_type": "markdown",
   "metadata": {},
   "source": [
    "**思路**：\n",
    "\n",
    "导入数据\n",
    "\n",
    "pandas清洗数据。\n",
    "\n",
    "用matplotlib绘图\n",
    "\n",
    "用pyecharts绘图"
   ]
  },
  {
   "cell_type": "markdown",
   "metadata": {},
   "source": [
    "---\n"
   ]
  },
  {
   "cell_type": "markdown",
   "metadata": {},
   "source": [
    "# 海外数据的导入并简单清洗数据"
   ]
  },
  {
   "cell_type": "markdown",
   "metadata": {},
   "source": [
    "### 导入"
   ]
  },
  {
   "cell_type": "code",
   "execution_count": 1,
   "metadata": {},
   "outputs": [],
   "source": [
    "import pandas as pd\n",
    "import numpy as np"
   ]
  },
  {
   "cell_type": "code",
   "execution_count": 2,
   "metadata": {},
   "outputs": [
    {
     "name": "stdout",
     "output_type": "stream",
     "text": [
      " 驱动器 D 中的卷是 data\n",
      " 卷的序列号是 C486-DFF8\n",
      "\n",
      " D:\\0WS\\python_crawl_COVID-19\\crawl and V 的目录\n",
      "\n",
      "2020/04/17  18:39    <DIR>          .\n",
      "2020/04/17  18:39    <DIR>          ..\n",
      "2020/04/15  22:26    <DIR>          .ipynb_checkpoints\n",
      "2020/04/15  22:53            56,812 crawl.ipynb\n",
      "2020/04/15  22:59    <DIR>          data\n",
      "2020/04/17  16:41             6,726 name_map.json\n",
      "2020/04/17  18:39           118,976 visualization.ipynb\n",
      "               3 个文件        182,514 字节\n",
      "               4 个目录 34,241,929,216 可用字节\n"
     ]
    }
   ],
   "source": [
    "ls"
   ]
  },
  {
   "cell_type": "code",
   "execution_count": 3,
   "metadata": {},
   "outputs": [],
   "source": [
    "foreign_df = pd.read_json('./data/foreign_df.json')"
   ]
  },
  {
   "cell_type": "code",
   "execution_count": 4,
   "metadata": {
    "scrolled": true
   },
   "outputs": [
    {
     "data": {
      "text/html": [
       "<div>\n",
       "<style scoped>\n",
       "    .dataframe tbody tr th:only-of-type {\n",
       "        vertical-align: middle;\n",
       "    }\n",
       "\n",
       "    .dataframe tbody tr th {\n",
       "        vertical-align: top;\n",
       "    }\n",
       "\n",
       "    .dataframe thead th {\n",
       "        text-align: right;\n",
       "    }\n",
       "</style>\n",
       "<table border=\"1\" class=\"dataframe\">\n",
       "  <thead>\n",
       "    <tr style=\"text-align: right;\">\n",
       "      <th></th>\n",
       "      <th>地区</th>\n",
       "      <th>新增确诊</th>\n",
       "      <th>累计确诊</th>\n",
       "      <th>治愈</th>\n",
       "      <th>死亡</th>\n",
       "      <th>疫情</th>\n",
       "    </tr>\n",
       "  </thead>\n",
       "  <tbody>\n",
       "    <tr>\n",
       "      <th>0</th>\n",
       "      <td>美国</td>\n",
       "      <td>26465</td>\n",
       "      <td>609685</td>\n",
       "      <td>49966</td>\n",
       "      <td>26059</td>\n",
       "      <td>详情</td>\n",
       "    </tr>\n",
       "    <tr>\n",
       "      <th>1</th>\n",
       "      <td>西班牙</td>\n",
       "      <td>5092</td>\n",
       "      <td>177633</td>\n",
       "      <td>70853</td>\n",
       "      <td>18579</td>\n",
       "      <td>详情</td>\n",
       "    </tr>\n",
       "    <tr>\n",
       "      <th>10</th>\n",
       "      <td>加拿大</td>\n",
       "      <td>1383</td>\n",
       "      <td>27063</td>\n",
       "      <td>8235</td>\n",
       "      <td>903</td>\n",
       "      <td>详情</td>\n",
       "    </tr>\n",
       "    <tr>\n",
       "      <th>100</th>\n",
       "      <td>几内亚</td>\n",
       "      <td>113</td>\n",
       "      <td>363</td>\n",
       "      <td>31</td>\n",
       "      <td>0</td>\n",
       "      <td>详情</td>\n",
       "    </tr>\n",
       "    <tr>\n",
       "      <th>101</th>\n",
       "      <td>毛里求斯</td>\n",
       "      <td>0</td>\n",
       "      <td>324</td>\n",
       "      <td>51</td>\n",
       "      <td>9</td>\n",
       "      <td>None</td>\n",
       "    </tr>\n",
       "  </tbody>\n",
       "</table>\n",
       "</div>"
      ],
      "text/plain": [
       "       地区   新增确诊    累计确诊     治愈     死亡    疫情\n",
       "0      美国  26465  609685  49966  26059    详情\n",
       "1     西班牙   5092  177633  70853  18579    详情\n",
       "10    加拿大   1383   27063   8235    903    详情\n",
       "100   几内亚    113     363     31      0    详情\n",
       "101  毛里求斯      0     324     51      9  None"
      ]
     },
     "execution_count": 4,
     "metadata": {},
     "output_type": "execute_result"
    }
   ],
   "source": [
    "foreign_df.head()"
   ]
  },
  {
   "cell_type": "markdown",
   "metadata": {},
   "source": [
    "### 清洗数据。"
   ]
  },
  {
   "cell_type": "code",
   "execution_count": 5,
   "metadata": {
    "scrolled": true
   },
   "outputs": [],
   "source": [
    "# foreign_df  按新增确诊排列\n",
    "foreign_df=foreign_df.sort_values('新增确诊',ascending=False)"
   ]
  },
  {
   "cell_type": "code",
   "execution_count": 6,
   "metadata": {},
   "outputs": [],
   "source": [
    "#foreign_df  删除疫情列   foreign_df = foreign_df.iloc[:,0:len(foreign_df.columns)-1]"
   ]
  },
  {
   "cell_type": "code",
   "execution_count": 7,
   "metadata": {},
   "outputs": [],
   "source": [
    "# foreign_df 重置 index\n",
    "foreign_df=foreign_df.reset_index(drop=True) # drop参数是问你是否删除之前的index"
   ]
  },
  {
   "cell_type": "markdown",
   "metadata": {},
   "source": [
    "注意 reset_index() 和 reindex() 的区别  \n",
    "\n",
    "foreign_df.reindex(index = list(np.arange(0,len(foreign_df.index),1)))"
   ]
  },
  {
   "cell_type": "code",
   "execution_count": 8,
   "metadata": {
    "scrolled": true
   },
   "outputs": [
    {
     "data": {
      "text/html": [
       "<div>\n",
       "<style scoped>\n",
       "    .dataframe tbody tr th:only-of-type {\n",
       "        vertical-align: middle;\n",
       "    }\n",
       "\n",
       "    .dataframe tbody tr th {\n",
       "        vertical-align: top;\n",
       "    }\n",
       "\n",
       "    .dataframe thead th {\n",
       "        text-align: right;\n",
       "    }\n",
       "</style>\n",
       "<table border=\"1\" class=\"dataframe\">\n",
       "  <thead>\n",
       "    <tr style=\"text-align: right;\">\n",
       "      <th></th>\n",
       "      <th>地区</th>\n",
       "      <th>新增确诊</th>\n",
       "      <th>累计确诊</th>\n",
       "      <th>治愈</th>\n",
       "      <th>死亡</th>\n",
       "      <th>疫情</th>\n",
       "    </tr>\n",
       "  </thead>\n",
       "  <tbody>\n",
       "    <tr>\n",
       "      <th>0</th>\n",
       "      <td>美国</td>\n",
       "      <td>26465</td>\n",
       "      <td>609685</td>\n",
       "      <td>49966</td>\n",
       "      <td>26059</td>\n",
       "      <td>详情</td>\n",
       "    </tr>\n",
       "    <tr>\n",
       "      <th>1</th>\n",
       "      <td>英国</td>\n",
       "      <td>5278</td>\n",
       "      <td>94847</td>\n",
       "      <td>344</td>\n",
       "      <td>12131</td>\n",
       "      <td>详情</td>\n",
       "    </tr>\n",
       "    <tr>\n",
       "      <th>2</th>\n",
       "      <td>西班牙</td>\n",
       "      <td>5092</td>\n",
       "      <td>177633</td>\n",
       "      <td>70853</td>\n",
       "      <td>18579</td>\n",
       "      <td>详情</td>\n",
       "    </tr>\n",
       "    <tr>\n",
       "      <th>3</th>\n",
       "      <td>法国</td>\n",
       "      <td>4202</td>\n",
       "      <td>131362</td>\n",
       "      <td>29121</td>\n",
       "      <td>15750</td>\n",
       "      <td>详情</td>\n",
       "    </tr>\n",
       "    <tr>\n",
       "      <th>4</th>\n",
       "      <td>土耳其</td>\n",
       "      <td>4062</td>\n",
       "      <td>65111</td>\n",
       "      <td>4799</td>\n",
       "      <td>1403</td>\n",
       "      <td>详情</td>\n",
       "    </tr>\n",
       "  </tbody>\n",
       "</table>\n",
       "</div>"
      ],
      "text/plain": [
       "    地区   新增确诊    累计确诊     治愈     死亡  疫情\n",
       "0   美国  26465  609685  49966  26059  详情\n",
       "1   英国   5278   94847    344  12131  详情\n",
       "2  西班牙   5092  177633  70853  18579  详情\n",
       "3   法国   4202  131362  29121  15750  详情\n",
       "4  土耳其   4062   65111   4799   1403  详情"
      ]
     },
     "execution_count": 8,
     "metadata": {},
     "output_type": "execute_result"
    }
   ],
   "source": [
    "foreign_df.head()"
   ]
  },
  {
   "cell_type": "markdown",
   "metadata": {},
   "source": [
    "---"
   ]
  },
  {
   "cell_type": "markdown",
   "metadata": {},
   "source": [
    "# china数据的导入与简单清理"
   ]
  },
  {
   "cell_type": "markdown",
   "metadata": {},
   "source": [
    "### 导入"
   ]
  },
  {
   "cell_type": "code",
   "execution_count": 9,
   "metadata": {},
   "outputs": [],
   "source": [
    "import pandas as pd\n",
    "import numpy as np"
   ]
  },
  {
   "cell_type": "code",
   "execution_count": 10,
   "metadata": {},
   "outputs": [],
   "source": [
    "china_df = pd.read_json('./data/china_df.json')"
   ]
  },
  {
   "cell_type": "code",
   "execution_count": 11,
   "metadata": {
    "scrolled": false
   },
   "outputs": [
    {
     "data": {
      "text/html": [
       "<div>\n",
       "<style scoped>\n",
       "    .dataframe tbody tr th:only-of-type {\n",
       "        vertical-align: middle;\n",
       "    }\n",
       "\n",
       "    .dataframe tbody tr th {\n",
       "        vertical-align: top;\n",
       "    }\n",
       "\n",
       "    .dataframe thead th {\n",
       "        text-align: right;\n",
       "    }\n",
       "</style>\n",
       "<table border=\"1\" class=\"dataframe\">\n",
       "  <thead>\n",
       "    <tr style=\"text-align: right;\">\n",
       "      <th></th>\n",
       "      <th>0</th>\n",
       "      <th>1</th>\n",
       "      <th>2</th>\n",
       "      <th>3</th>\n",
       "      <th>4</th>\n",
       "      <th>5</th>\n",
       "    </tr>\n",
       "  </thead>\n",
       "  <tbody>\n",
       "    <tr>\n",
       "      <th>0</th>\n",
       "      <td>香港</td>\n",
       "      <td>553</td>\n",
       "      <td>1016  较上日+3</td>\n",
       "      <td>459</td>\n",
       "      <td>4.0</td>\n",
       "      <td>详情</td>\n",
       "    </tr>\n",
       "    <tr>\n",
       "      <th>1</th>\n",
       "      <td>地区待确认</td>\n",
       "      <td>553</td>\n",
       "      <td>1016</td>\n",
       "      <td>459</td>\n",
       "      <td>4.0</td>\n",
       "      <td>None</td>\n",
       "    </tr>\n",
       "    <tr>\n",
       "      <th>10</th>\n",
       "      <td>双鸭山</td>\n",
       "      <td>0</td>\n",
       "      <td>52</td>\n",
       "      <td>49</td>\n",
       "      <td>3.0</td>\n",
       "      <td>None</td>\n",
       "    </tr>\n",
       "    <tr>\n",
       "      <th>100</th>\n",
       "      <td>朝阳</td>\n",
       "      <td>-</td>\n",
       "      <td>72</td>\n",
       "      <td>-</td>\n",
       "      <td>0.0</td>\n",
       "      <td>None</td>\n",
       "    </tr>\n",
       "    <tr>\n",
       "      <th>101</th>\n",
       "      <td>海淀</td>\n",
       "      <td>-</td>\n",
       "      <td>64</td>\n",
       "      <td>-</td>\n",
       "      <td>0.0</td>\n",
       "      <td>None</td>\n",
       "    </tr>\n",
       "  </tbody>\n",
       "</table>\n",
       "</div>"
      ],
      "text/plain": [
       "         0    1            2    3    4     5\n",
       "0       香港  553  1016  较上日+3  459  4.0    详情\n",
       "1    地区待确认  553         1016  459  4.0  None\n",
       "10     双鸭山    0           52   49  3.0  None\n",
       "100     朝阳    -           72    -  0.0  None\n",
       "101     海淀    -           64    -  0.0  None"
      ]
     },
     "execution_count": 11,
     "metadata": {},
     "output_type": "execute_result"
    }
   ],
   "source": [
    "china_df.head()"
   ]
  },
  {
   "cell_type": "markdown",
   "metadata": {},
   "source": [
    "### 清洗"
   ]
  },
  {
   "cell_type": "code",
   "execution_count": 12,
   "metadata": {},
   "outputs": [],
   "source": [
    "# 重置index标签\n",
    "china_df=china_df.reset_index(drop=True)\n",
    "# 重命名colums标签 \n",
    "china_df = china_df.rename({0:'地区',1: '现有确诊', 2:'累计确诊',3: '治愈',4:'死亡',5:'其他'}, axis='columns')"
   ]
  },
  {
   "cell_type": "code",
   "execution_count": 13,
   "metadata": {},
   "outputs": [
    {
     "data": {
      "text/html": [
       "<div>\n",
       "<style scoped>\n",
       "    .dataframe tbody tr th:only-of-type {\n",
       "        vertical-align: middle;\n",
       "    }\n",
       "\n",
       "    .dataframe tbody tr th {\n",
       "        vertical-align: top;\n",
       "    }\n",
       "\n",
       "    .dataframe thead th {\n",
       "        text-align: right;\n",
       "    }\n",
       "</style>\n",
       "<table border=\"1\" class=\"dataframe\">\n",
       "  <thead>\n",
       "    <tr style=\"text-align: right;\">\n",
       "      <th></th>\n",
       "      <th>地区</th>\n",
       "      <th>现有确诊</th>\n",
       "      <th>累计确诊</th>\n",
       "      <th>治愈</th>\n",
       "      <th>死亡</th>\n",
       "      <th>其他</th>\n",
       "    </tr>\n",
       "  </thead>\n",
       "  <tbody>\n",
       "    <tr>\n",
       "      <th>0</th>\n",
       "      <td>香港</td>\n",
       "      <td>553</td>\n",
       "      <td>1016  较上日+3</td>\n",
       "      <td>459</td>\n",
       "      <td>4.0</td>\n",
       "      <td>详情</td>\n",
       "    </tr>\n",
       "    <tr>\n",
       "      <th>1</th>\n",
       "      <td>地区待确认</td>\n",
       "      <td>553</td>\n",
       "      <td>1016</td>\n",
       "      <td>459</td>\n",
       "      <td>4.0</td>\n",
       "      <td>None</td>\n",
       "    </tr>\n",
       "    <tr>\n",
       "      <th>2</th>\n",
       "      <td>双鸭山</td>\n",
       "      <td>0</td>\n",
       "      <td>52</td>\n",
       "      <td>49</td>\n",
       "      <td>3.0</td>\n",
       "      <td>None</td>\n",
       "    </tr>\n",
       "    <tr>\n",
       "      <th>3</th>\n",
       "      <td>朝阳</td>\n",
       "      <td>-</td>\n",
       "      <td>72</td>\n",
       "      <td>-</td>\n",
       "      <td>0.0</td>\n",
       "      <td>None</td>\n",
       "    </tr>\n",
       "    <tr>\n",
       "      <th>4</th>\n",
       "      <td>海淀</td>\n",
       "      <td>-</td>\n",
       "      <td>64</td>\n",
       "      <td>-</td>\n",
       "      <td>0.0</td>\n",
       "      <td>None</td>\n",
       "    </tr>\n",
       "  </tbody>\n",
       "</table>\n",
       "</div>"
      ],
      "text/plain": [
       "      地区 现有确诊         累计确诊   治愈   死亡    其他\n",
       "0     香港  553  1016  较上日+3  459  4.0    详情\n",
       "1  地区待确认  553         1016  459  4.0  None\n",
       "2    双鸭山    0           52   49  3.0  None\n",
       "3     朝阳    -           72    -  0.0  None\n",
       "4     海淀    -           64    -  0.0  None"
      ]
     },
     "execution_count": 13,
     "metadata": {},
     "output_type": "execute_result"
    }
   ],
   "source": [
    "china_df.head()"
   ]
  },
  {
   "cell_type": "markdown",
   "metadata": {},
   "source": [
    "### china_df 拆分为 china_province_df 和 china_city_df\n",
    "思路：如果最后一列是详情，则说明当前index是省数据。"
   ]
  },
  {
   "cell_type": "code",
   "execution_count": 14,
   "metadata": {
    "scrolled": true
   },
   "outputs": [
    {
     "name": "stdout",
     "output_type": "stream",
     "text": [
      "   其他\n",
      "0  详情 \n",
      "\n",
      "     其他\n",
      "0  True \n",
      "\n",
      "详情 \n",
      "\n",
      "详情 \n",
      "\n"
     ]
    }
   ],
   "source": [
    "# 测试  结果是dataframe\n",
    "print(china_df.iloc[0:1,5:6] ,'\\n') \n",
    "\n",
    "# 测试  结果是dataframe的元素的判断并赋值判断结果\n",
    "print(china_df.iloc[0:1,5:6]=='详情' ,'\\n')\n",
    "\n",
    "# 测试  提取标量值\n",
    "print(china_df.iloc[0,5],'\\n')\n",
    "\n",
    "# 测试 提取标量值\n",
    "print(china_df['其他'][0] , '\\n')"
   ]
  },
  {
   "cell_type": "code",
   "execution_count": 15,
   "metadata": {
    "scrolled": true
   },
   "outputs": [
    {
     "name": "stdout",
     "output_type": "stream",
     "text": [
      "<class 'int'>\n",
      "<class 'int'>\n"
     ]
    }
   ],
   "source": [
    "index_list = list(china_df.index) # index标签列表\n",
    "last_col_loc = len(china_df.columns)-1 #最后一列的位置\n",
    "print(type(index_list[0]))\n",
    "print(type(last_col_loc))"
   ]
  },
  {
   "cell_type": "code",
   "execution_count": 16,
   "metadata": {},
   "outputs": [],
   "source": [
    "#省数据的idnex的列表推导式\n",
    "# iloc[1,2]按位置提取标量值，注意这里不是iloc[ :,: ] 。 \n",
    "province_index = [ x for x in index_list if china_df.iloc[x,last_col_loc] ]   "
   ]
  },
  {
   "cell_type": "code",
   "execution_count": 17,
   "metadata": {},
   "outputs": [],
   "source": [
    "# 拿到china_province_df\n",
    "china_province_df = china_df.loc[province_index,:]   # 注意loc按标签提取   iloc按位置提取\n",
    "# 拿到china_city_df\n",
    "china_city_df = china_df.drop(province_index)"
   ]
  },
  {
   "cell_type": "code",
   "execution_count": 18,
   "metadata": {},
   "outputs": [],
   "source": [
    "# 重置index \n",
    "china_province_df = china_province_df.reset_index(drop=True)\n",
    "china_city_df = china_city_df.reset_index(drop=True)"
   ]
  },
  {
   "cell_type": "code",
   "execution_count": 19,
   "metadata": {},
   "outputs": [],
   "source": [
    "# 删除最后一列        iloc[:,:]\n",
    "# china_province_df = china_province_df.iloc[:,0:len(china_province_df.columns)-1]\n",
    "# china_city_df = china_city_df.iloc[:,0:len(china_city_df.columns)-1]"
   ]
  },
  {
   "cell_type": "code",
   "execution_count": 20,
   "metadata": {
    "scrolled": false
   },
   "outputs": [
    {
     "data": {
      "text/html": [
       "<div>\n",
       "<style scoped>\n",
       "    .dataframe tbody tr th:only-of-type {\n",
       "        vertical-align: middle;\n",
       "    }\n",
       "\n",
       "    .dataframe tbody tr th {\n",
       "        vertical-align: top;\n",
       "    }\n",
       "\n",
       "    .dataframe thead th {\n",
       "        text-align: right;\n",
       "    }\n",
       "</style>\n",
       "<table border=\"1\" class=\"dataframe\">\n",
       "  <thead>\n",
       "    <tr style=\"text-align: right;\">\n",
       "      <th></th>\n",
       "      <th>地区</th>\n",
       "      <th>现有确诊</th>\n",
       "      <th>累计确诊</th>\n",
       "      <th>治愈</th>\n",
       "      <th>死亡</th>\n",
       "      <th>其他</th>\n",
       "    </tr>\n",
       "  </thead>\n",
       "  <tbody>\n",
       "    <tr>\n",
       "      <th>0</th>\n",
       "      <td>香港</td>\n",
       "      <td>553</td>\n",
       "      <td>1016  较上日+3</td>\n",
       "      <td>459</td>\n",
       "      <td>4.0</td>\n",
       "      <td>详情</td>\n",
       "    </tr>\n",
       "    <tr>\n",
       "      <th>1</th>\n",
       "      <td>山西</td>\n",
       "      <td>51</td>\n",
       "      <td>186  较上日+13</td>\n",
       "      <td>135</td>\n",
       "      <td>0.0</td>\n",
       "      <td>详情</td>\n",
       "    </tr>\n",
       "    <tr>\n",
       "      <th>2</th>\n",
       "      <td>澳门</td>\n",
       "      <td>30</td>\n",
       "      <td>45  6天0新增</td>\n",
       "      <td>15</td>\n",
       "      <td>0.0</td>\n",
       "      <td>详情</td>\n",
       "    </tr>\n",
       "    <tr>\n",
       "      <th>3</th>\n",
       "      <td>浙江</td>\n",
       "      <td>23</td>\n",
       "      <td>1268  较上日+1</td>\n",
       "      <td>1244</td>\n",
       "      <td>1.0</td>\n",
       "      <td>详情</td>\n",
       "    </tr>\n",
       "    <tr>\n",
       "      <th>4</th>\n",
       "      <td>福建</td>\n",
       "      <td>21</td>\n",
       "      <td>353  1天0新增</td>\n",
       "      <td>331</td>\n",
       "      <td>1.0</td>\n",
       "      <td>详情</td>\n",
       "    </tr>\n",
       "  </tbody>\n",
       "</table>\n",
       "</div>"
      ],
      "text/plain": [
       "   地区 现有确诊         累计确诊    治愈   死亡  其他\n",
       "0  香港  553  1016  较上日+3   459  4.0  详情\n",
       "1  山西   51  186  较上日+13   135  0.0  详情\n",
       "2  澳门   30    45  6天0新增    15  0.0  详情\n",
       "3  浙江   23  1268  较上日+1  1244  1.0  详情\n",
       "4  福建   21   353  1天0新增   331  1.0  详情"
      ]
     },
     "execution_count": 20,
     "metadata": {},
     "output_type": "execute_result"
    }
   ],
   "source": [
    "china_province_df.head()"
   ]
  },
  {
   "cell_type": "code",
   "execution_count": 21,
   "metadata": {
    "scrolled": false
   },
   "outputs": [
    {
     "data": {
      "text/html": [
       "<div>\n",
       "<style scoped>\n",
       "    .dataframe tbody tr th:only-of-type {\n",
       "        vertical-align: middle;\n",
       "    }\n",
       "\n",
       "    .dataframe tbody tr th {\n",
       "        vertical-align: top;\n",
       "    }\n",
       "\n",
       "    .dataframe thead th {\n",
       "        text-align: right;\n",
       "    }\n",
       "</style>\n",
       "<table border=\"1\" class=\"dataframe\">\n",
       "  <thead>\n",
       "    <tr style=\"text-align: right;\">\n",
       "      <th></th>\n",
       "      <th>地区</th>\n",
       "      <th>现有确诊</th>\n",
       "      <th>累计确诊</th>\n",
       "      <th>治愈</th>\n",
       "      <th>死亡</th>\n",
       "      <th>其他</th>\n",
       "    </tr>\n",
       "  </thead>\n",
       "  <tbody>\n",
       "    <tr>\n",
       "      <th>0</th>\n",
       "      <td>地区待确认</td>\n",
       "      <td>553</td>\n",
       "      <td>1016</td>\n",
       "      <td>459</td>\n",
       "      <td>4.0</td>\n",
       "      <td>None</td>\n",
       "    </tr>\n",
       "    <tr>\n",
       "      <th>1</th>\n",
       "      <td>双鸭山</td>\n",
       "      <td>0</td>\n",
       "      <td>52</td>\n",
       "      <td>49</td>\n",
       "      <td>3.0</td>\n",
       "      <td>None</td>\n",
       "    </tr>\n",
       "    <tr>\n",
       "      <th>2</th>\n",
       "      <td>朝阳</td>\n",
       "      <td>-</td>\n",
       "      <td>72</td>\n",
       "      <td>-</td>\n",
       "      <td>0.0</td>\n",
       "      <td>None</td>\n",
       "    </tr>\n",
       "    <tr>\n",
       "      <th>3</th>\n",
       "      <td>海淀</td>\n",
       "      <td>-</td>\n",
       "      <td>64</td>\n",
       "      <td>-</td>\n",
       "      <td>0.0</td>\n",
       "      <td>None</td>\n",
       "    </tr>\n",
       "    <tr>\n",
       "      <th>4</th>\n",
       "      <td>西城</td>\n",
       "      <td>-</td>\n",
       "      <td>53</td>\n",
       "      <td>-</td>\n",
       "      <td>0.0</td>\n",
       "      <td>None</td>\n",
       "    </tr>\n",
       "  </tbody>\n",
       "</table>\n",
       "</div>"
      ],
      "text/plain": [
       "      地区 现有确诊  累计确诊   治愈   死亡    其他\n",
       "0  地区待确认  553  1016  459  4.0  None\n",
       "1    双鸭山    0    52   49  3.0  None\n",
       "2     朝阳    -    72    -  0.0  None\n",
       "3     海淀    -    64    -  0.0  None\n",
       "4     西城    -    53    -  0.0  None"
      ]
     },
     "execution_count": 21,
     "metadata": {},
     "output_type": "execute_result"
    }
   ],
   "source": [
    "china_city_df.head()"
   ]
  },
  {
   "cell_type": "markdown",
   "metadata": {},
   "source": [
    "---"
   ]
  },
  {
   "cell_type": "markdown",
   "metadata": {},
   "source": [
    "# 可视化1：海外新增TOP10（matplotlib）"
   ]
  },
  {
   "cell_type": "markdown",
   "metadata": {},
   "source": [
    "##### 数据清理"
   ]
  },
  {
   "cell_type": "code",
   "execution_count": 22,
   "metadata": {},
   "outputs": [],
   "source": [
    "import pandas as pd\n",
    "import numpy as np"
   ]
  },
  {
   "cell_type": "code",
   "execution_count": 23,
   "metadata": {},
   "outputs": [
    {
     "data": {
      "text/html": [
       "<div>\n",
       "<style scoped>\n",
       "    .dataframe tbody tr th:only-of-type {\n",
       "        vertical-align: middle;\n",
       "    }\n",
       "\n",
       "    .dataframe tbody tr th {\n",
       "        vertical-align: top;\n",
       "    }\n",
       "\n",
       "    .dataframe thead th {\n",
       "        text-align: right;\n",
       "    }\n",
       "</style>\n",
       "<table border=\"1\" class=\"dataframe\">\n",
       "  <thead>\n",
       "    <tr style=\"text-align: right;\">\n",
       "      <th></th>\n",
       "      <th>地区</th>\n",
       "      <th>新增确诊</th>\n",
       "      <th>累计确诊</th>\n",
       "      <th>治愈</th>\n",
       "      <th>死亡</th>\n",
       "      <th>疫情</th>\n",
       "    </tr>\n",
       "  </thead>\n",
       "  <tbody>\n",
       "    <tr>\n",
       "      <th>0</th>\n",
       "      <td>美国</td>\n",
       "      <td>26465</td>\n",
       "      <td>609685</td>\n",
       "      <td>49966</td>\n",
       "      <td>26059</td>\n",
       "      <td>详情</td>\n",
       "    </tr>\n",
       "    <tr>\n",
       "      <th>1</th>\n",
       "      <td>英国</td>\n",
       "      <td>5278</td>\n",
       "      <td>94847</td>\n",
       "      <td>344</td>\n",
       "      <td>12131</td>\n",
       "      <td>详情</td>\n",
       "    </tr>\n",
       "    <tr>\n",
       "      <th>2</th>\n",
       "      <td>西班牙</td>\n",
       "      <td>5092</td>\n",
       "      <td>177633</td>\n",
       "      <td>70853</td>\n",
       "      <td>18579</td>\n",
       "      <td>详情</td>\n",
       "    </tr>\n",
       "    <tr>\n",
       "      <th>3</th>\n",
       "      <td>法国</td>\n",
       "      <td>4202</td>\n",
       "      <td>131362</td>\n",
       "      <td>29121</td>\n",
       "      <td>15750</td>\n",
       "      <td>详情</td>\n",
       "    </tr>\n",
       "    <tr>\n",
       "      <th>4</th>\n",
       "      <td>土耳其</td>\n",
       "      <td>4062</td>\n",
       "      <td>65111</td>\n",
       "      <td>4799</td>\n",
       "      <td>1403</td>\n",
       "      <td>详情</td>\n",
       "    </tr>\n",
       "  </tbody>\n",
       "</table>\n",
       "</div>"
      ],
      "text/plain": [
       "    地区   新增确诊    累计确诊     治愈     死亡  疫情\n",
       "0   美国  26465  609685  49966  26059  详情\n",
       "1   英国   5278   94847    344  12131  详情\n",
       "2  西班牙   5092  177633  70853  18579  详情\n",
       "3   法国   4202  131362  29121  15750  详情\n",
       "4  土耳其   4062   65111   4799   1403  详情"
      ]
     },
     "execution_count": 23,
     "metadata": {},
     "output_type": "execute_result"
    }
   ],
   "source": [
    "foreign_df.head()"
   ]
  },
  {
   "cell_type": "code",
   "execution_count": 24,
   "metadata": {},
   "outputs": [],
   "source": [
    "df = foreign_df"
   ]
  },
  {
   "cell_type": "code",
   "execution_count": 25,
   "metadata": {},
   "outputs": [],
   "source": [
    "# 确保新增确诊是int类型(可以排序)，我将强制转为int，然后生成一个新的df\n",
    "dict_ = {'地区':df['地区'],'新增确诊':[ x for x  in df['新增确诊'].values]}\n",
    "df = pd.DataFrame(dict_)"
   ]
  },
  {
   "cell_type": "code",
   "execution_count": 26,
   "metadata": {},
   "outputs": [],
   "source": [
    "# 按新增确诊排序\n",
    "df = df.sort_values('新增确诊',ascending=False)"
   ]
  },
  {
   "cell_type": "code",
   "execution_count": 27,
   "metadata": {},
   "outputs": [
    {
     "data": {
      "text/html": [
       "<div>\n",
       "<style scoped>\n",
       "    .dataframe tbody tr th:only-of-type {\n",
       "        vertical-align: middle;\n",
       "    }\n",
       "\n",
       "    .dataframe tbody tr th {\n",
       "        vertical-align: top;\n",
       "    }\n",
       "\n",
       "    .dataframe thead th {\n",
       "        text-align: right;\n",
       "    }\n",
       "</style>\n",
       "<table border=\"1\" class=\"dataframe\">\n",
       "  <thead>\n",
       "    <tr style=\"text-align: right;\">\n",
       "      <th></th>\n",
       "      <th>地区</th>\n",
       "      <th>新增确诊</th>\n",
       "    </tr>\n",
       "  </thead>\n",
       "  <tbody>\n",
       "    <tr>\n",
       "      <th>0</th>\n",
       "      <td>美国</td>\n",
       "      <td>26465</td>\n",
       "    </tr>\n",
       "    <tr>\n",
       "      <th>1</th>\n",
       "      <td>英国</td>\n",
       "      <td>5278</td>\n",
       "    </tr>\n",
       "    <tr>\n",
       "      <th>2</th>\n",
       "      <td>西班牙</td>\n",
       "      <td>5092</td>\n",
       "    </tr>\n",
       "    <tr>\n",
       "      <th>3</th>\n",
       "      <td>法国</td>\n",
       "      <td>4202</td>\n",
       "    </tr>\n",
       "    <tr>\n",
       "      <th>4</th>\n",
       "      <td>土耳其</td>\n",
       "      <td>4062</td>\n",
       "    </tr>\n",
       "  </tbody>\n",
       "</table>\n",
       "</div>"
      ],
      "text/plain": [
       "    地区   新增确诊\n",
       "0   美国  26465\n",
       "1   英国   5278\n",
       "2  西班牙   5092\n",
       "3   法国   4202\n",
       "4  土耳其   4062"
      ]
     },
     "execution_count": 27,
     "metadata": {},
     "output_type": "execute_result"
    }
   ],
   "source": [
    "df.head()"
   ]
  },
  {
   "cell_type": "code",
   "execution_count": 28,
   "metadata": {},
   "outputs": [],
   "source": [
    "# top\n",
    "top=df.head(10)"
   ]
  },
  {
   "cell_type": "code",
   "execution_count": 29,
   "metadata": {},
   "outputs": [],
   "source": [
    "# series转为list\n",
    "x = list(top['地区'])\n",
    "y = list(top['新增确诊'])"
   ]
  },
  {
   "cell_type": "code",
   "execution_count": 30,
   "metadata": {},
   "outputs": [
    {
     "name": "stdout",
     "output_type": "stream",
     "text": [
      "['美国', '英国', '西班牙', '法国', '土耳其', '俄罗斯', '意大利', '比利时', '巴西', '德国']\n",
      "[26465, 5278, 5092, 4202, 4062, 3388, 2972, 2454, 1803, 1776]\n"
     ]
    }
   ],
   "source": [
    "print(x)\n",
    "print(y)"
   ]
  },
  {
   "cell_type": "markdown",
   "metadata": {},
   "source": [
    "##### 可视化 matplotlib"
   ]
  },
  {
   "cell_type": "code",
   "execution_count": 31,
   "metadata": {},
   "outputs": [],
   "source": [
    "%matplotlib inline\n",
    "import matplotlib.pyplot as plt"
   ]
  },
  {
   "cell_type": "code",
   "execution_count": 32,
   "metadata": {},
   "outputs": [],
   "source": [
    "# 设置中文字体\n",
    "plt.rcParams['font.family']=['sans-serif']\n",
    "plt.rcParams['font.sans-serif']=['SimHei']"
   ]
  },
  {
   "cell_type": "code",
   "execution_count": 33,
   "metadata": {
    "scrolled": false
   },
   "outputs": [
    {
     "data": {
      "image/png": "[encoded data removed]",
      "text/plain": [
       "<Figure size 432x288 with 1 Axes>"
      ]
     },
     "metadata": {
      "needs_background": "light"
     },
     "output_type": "display_data"
    }
   ],
   "source": [
    "plt.bar(x,y)\n",
    "\n",
    "# 在每个柱上加数值标签\n",
    "for a,b in zip(x,y):\n",
    "    # 参数 a,b+50 是文本标签的空间位置   ha是文本标签的内容居中\n",
    "    plt.text(a,b+50,'%d'%b,ha='center')\n",
    "    plt.title('海外新增确诊top')"
   ]
  },
  {
   "cell_type": "markdown",
   "metadata": {},
   "source": [
    "---"
   ]
  },
  {
   "cell_type": "markdown",
   "metadata": {},
   "source": [
    "# 可视化2：中国现有确诊top （matplotlib）"
   ]
  },
  {
   "cell_type": "markdown",
   "metadata": {},
   "source": [
    "#### 数据清理"
   ]
  },
  {
   "cell_type": "code",
   "execution_count": 34,
   "metadata": {},
   "outputs": [],
   "source": [
    "import pandas as pd\n",
    "import numpy as np"
   ]
  },
  {
   "cell_type": "code",
   "execution_count": 35,
   "metadata": {},
   "outputs": [],
   "source": [
    "df = china_province_df"
   ]
  },
  {
   "cell_type": "code",
   "execution_count": 36,
   "metadata": {},
   "outputs": [
    {
     "data": {
      "text/html": [
       "<div>\n",
       "<style scoped>\n",
       "    .dataframe tbody tr th:only-of-type {\n",
       "        vertical-align: middle;\n",
       "    }\n",
       "\n",
       "    .dataframe tbody tr th {\n",
       "        vertical-align: top;\n",
       "    }\n",
       "\n",
       "    .dataframe thead th {\n",
       "        text-align: right;\n",
       "    }\n",
       "</style>\n",
       "<table border=\"1\" class=\"dataframe\">\n",
       "  <thead>\n",
       "    <tr style=\"text-align: right;\">\n",
       "      <th></th>\n",
       "      <th>地区</th>\n",
       "      <th>现有确诊</th>\n",
       "      <th>累计确诊</th>\n",
       "      <th>治愈</th>\n",
       "      <th>死亡</th>\n",
       "      <th>其他</th>\n",
       "    </tr>\n",
       "  </thead>\n",
       "  <tbody>\n",
       "    <tr>\n",
       "      <th>0</th>\n",
       "      <td>香港</td>\n",
       "      <td>553</td>\n",
       "      <td>1016  较上日+3</td>\n",
       "      <td>459</td>\n",
       "      <td>4.0</td>\n",
       "      <td>详情</td>\n",
       "    </tr>\n",
       "    <tr>\n",
       "      <th>1</th>\n",
       "      <td>山西</td>\n",
       "      <td>51</td>\n",
       "      <td>186  较上日+13</td>\n",
       "      <td>135</td>\n",
       "      <td>0.0</td>\n",
       "      <td>详情</td>\n",
       "    </tr>\n",
       "    <tr>\n",
       "      <th>2</th>\n",
       "      <td>澳门</td>\n",
       "      <td>30</td>\n",
       "      <td>45  6天0新增</td>\n",
       "      <td>15</td>\n",
       "      <td>0.0</td>\n",
       "      <td>详情</td>\n",
       "    </tr>\n",
       "    <tr>\n",
       "      <th>3</th>\n",
       "      <td>浙江</td>\n",
       "      <td>23</td>\n",
       "      <td>1268  较上日+1</td>\n",
       "      <td>1244</td>\n",
       "      <td>1.0</td>\n",
       "      <td>详情</td>\n",
       "    </tr>\n",
       "    <tr>\n",
       "      <th>4</th>\n",
       "      <td>福建</td>\n",
       "      <td>21</td>\n",
       "      <td>353  1天0新增</td>\n",
       "      <td>331</td>\n",
       "      <td>1.0</td>\n",
       "      <td>详情</td>\n",
       "    </tr>\n",
       "  </tbody>\n",
       "</table>\n",
       "</div>"
      ],
      "text/plain": [
       "   地区 现有确诊         累计确诊    治愈   死亡  其他\n",
       "0  香港  553  1016  较上日+3   459  4.0  详情\n",
       "1  山西   51  186  较上日+13   135  0.0  详情\n",
       "2  澳门   30    45  6天0新增    15  0.0  详情\n",
       "3  浙江   23  1268  较上日+1  1244  1.0  详情\n",
       "4  福建   21   353  1天0新增   331  1.0  详情"
      ]
     },
     "execution_count": 36,
     "metadata": {},
     "output_type": "execute_result"
    }
   ],
   "source": [
    "df.head()"
   ]
  },
  {
   "cell_type": "code",
   "execution_count": 37,
   "metadata": {},
   "outputs": [],
   "source": [
    "# 为了确保新增确诊的元素是数值，这样的才能排序。\n",
    "# 我们将新增确诊的元素强制为int类型，然后重新构建一个df\n",
    "dict_ = {'地区':df['地区'],'现有确诊':pd.Series([ int(x) for x in df['现有确诊'].values ])}\n",
    "df = pd.DataFrame(dict_)"
   ]
  },
  {
   "cell_type": "markdown",
   "metadata": {},
   "source": [
    "- 上述 dict_ ,pandas还有更简单的方法：\n",
    "    - dict_ = {'地区':df['地区'],'现有确诊':pd.Series(list(df['现有确诊'].astype('int')))}"
   ]
  },
  {
   "cell_type": "code",
   "execution_count": 38,
   "metadata": {},
   "outputs": [],
   "source": [
    "# 按照新增确诊排序  降序\n",
    "df = df.sort_values('现有确诊',ascending=False)\n",
    "# 重置index\n",
    "df = df.reset_index(drop=True)"
   ]
  },
  {
   "cell_type": "code",
   "execution_count": 39,
   "metadata": {},
   "outputs": [
    {
     "data": {
      "text/html": [
       "<div>\n",
       "<style scoped>\n",
       "    .dataframe tbody tr th:only-of-type {\n",
       "        vertical-align: middle;\n",
       "    }\n",
       "\n",
       "    .dataframe tbody tr th {\n",
       "        vertical-align: top;\n",
       "    }\n",
       "\n",
       "    .dataframe thead th {\n",
       "        text-align: right;\n",
       "    }\n",
       "</style>\n",
       "<table border=\"1\" class=\"dataframe\">\n",
       "  <thead>\n",
       "    <tr style=\"text-align: right;\">\n",
       "      <th></th>\n",
       "      <th>地区</th>\n",
       "      <th>现有确诊</th>\n",
       "    </tr>\n",
       "  </thead>\n",
       "  <tbody>\n",
       "    <tr>\n",
       "      <th>0</th>\n",
       "      <td>香港</td>\n",
       "      <td>553</td>\n",
       "    </tr>\n",
       "    <tr>\n",
       "      <th>1</th>\n",
       "      <td>黑龙江</td>\n",
       "      <td>358</td>\n",
       "    </tr>\n",
       "    <tr>\n",
       "      <th>2</th>\n",
       "      <td>台湾</td>\n",
       "      <td>265</td>\n",
       "    </tr>\n",
       "    <tr>\n",
       "      <th>3</th>\n",
       "      <td>湖北</td>\n",
       "      <td>179</td>\n",
       "    </tr>\n",
       "    <tr>\n",
       "      <th>4</th>\n",
       "      <td>上海</td>\n",
       "      <td>130</td>\n",
       "    </tr>\n",
       "  </tbody>\n",
       "</table>\n",
       "</div>"
      ],
      "text/plain": [
       "    地区  现有确诊\n",
       "0   香港   553\n",
       "1  黑龙江   358\n",
       "2   台湾   265\n",
       "3   湖北   179\n",
       "4   上海   130"
      ]
     },
     "execution_count": 39,
     "metadata": {},
     "output_type": "execute_result"
    }
   ],
   "source": [
    "df.head()"
   ]
  },
  {
   "cell_type": "code",
   "execution_count": 40,
   "metadata": {},
   "outputs": [],
   "source": [
    "# top\n",
    "top = df.head(10) "
   ]
  },
  {
   "cell_type": "code",
   "execution_count": 41,
   "metadata": {},
   "outputs": [],
   "source": [
    "x = list(top['地区'])\n",
    "y = list(top['现有确诊'])"
   ]
  },
  {
   "cell_type": "code",
   "execution_count": 42,
   "metadata": {
    "scrolled": true
   },
   "outputs": [
    {
     "name": "stdout",
     "output_type": "stream",
     "text": [
      "['香港' '黑龙江' '台湾' '湖北' '上海' '广东' '内蒙古' '北京' '山西' '澳门']\n",
      "['香港', '黑龙江', '台湾', '湖北', '上海', '广东', '内蒙古', '北京', '山西', '澳门']\n",
      "['香港', '黑龙江', '台湾', '湖北', '上海', '广东', '内蒙古', '北京', '山西', '澳门']\n",
      "<class 'numpy.ndarray'>\n",
      "<class 'list'>\n",
      "<class 'list'>\n"
     ]
    }
   ],
   "source": [
    "# test 注意看，a打印是不同于bc的，类型也不同。\n",
    "a = top['地区'].values\n",
    "b = list(top['地区'].values)\n",
    "c = list(top['地区'])\n",
    "print(a)\n",
    "print(b)\n",
    "print(c)\n",
    "print(type(a))\n",
    "print(type(b))\n",
    "print(type(c))"
   ]
  },
  {
   "cell_type": "markdown",
   "metadata": {},
   "source": [
    "#### 可视化"
   ]
  },
  {
   "cell_type": "code",
   "execution_count": 43,
   "metadata": {},
   "outputs": [],
   "source": [
    "import matplotlib.pyplot as plt\n",
    "%matplotlib inline"
   ]
  },
  {
   "cell_type": "code",
   "execution_count": 44,
   "metadata": {},
   "outputs": [],
   "source": [
    "# 设置中文字体\n",
    "plt.rcParams['font.family']=['sans-serif']\n",
    "plt.rcParams['font.sans-serif']=['SimHei']"
   ]
  },
  {
   "cell_type": "code",
   "execution_count": 45,
   "metadata": {},
   "outputs": [
    {
     "data": {
      "image/png": "[encoded data removed]",
      "text/plain": [
       "<Figure size 432x288 with 1 Axes>"
      ]
     },
     "metadata": {
      "needs_background": "light"
     },
     "output_type": "display_data"
    }
   ],
   "source": [
    "plt.bar(x,y)\n",
    "# 设置标签\n",
    "for a,b in zip(x,y):\n",
    "    plt.text(a,b+5,'%d'%b,ha='center')\n",
    "    plt.title('中国现有确诊（含港澳台）')"
   ]
  },
  {
   "cell_type": "markdown",
   "metadata": {},
   "source": [
    "# 可视化3：全球现有top 疫情地图(pyecharts)"
   ]
  },
  {
   "cell_type": "markdown",
   "metadata": {},
   "source": [
    "#### 导入与清洗数据"
   ]
  },
  {
   "cell_type": "markdown",
   "metadata": {},
   "source": [
    "提取出海外国家的现有确诊数目\n",
    "\n",
    "将中国(含港澳台)现有数据汇总\n",
    "\n",
    "结合中国和海外的数据生成一个新的df。"
   ]
  },
  {
   "cell_type": "code",
   "execution_count": 46,
   "metadata": {},
   "outputs": [],
   "source": [
    "import numpy as np\n",
    "import pandas as pd"
   ]
  },
  {
   "cell_type": "code",
   "execution_count": 47,
   "metadata": {},
   "outputs": [],
   "source": [
    "df_c = china_province_df"
   ]
  },
  {
   "cell_type": "code",
   "execution_count": 48,
   "metadata": {},
   "outputs": [
    {
     "data": {
      "text/html": [
       "<div>\n",
       "<style scoped>\n",
       "    .dataframe tbody tr th:only-of-type {\n",
       "        vertical-align: middle;\n",
       "    }\n",
       "\n",
       "    .dataframe tbody tr th {\n",
       "        vertical-align: top;\n",
       "    }\n",
       "\n",
       "    .dataframe thead th {\n",
       "        text-align: right;\n",
       "    }\n",
       "</style>\n",
       "<table border=\"1\" class=\"dataframe\">\n",
       "  <thead>\n",
       "    <tr style=\"text-align: right;\">\n",
       "      <th></th>\n",
       "      <th>地区</th>\n",
       "      <th>现有确诊</th>\n",
       "      <th>累计确诊</th>\n",
       "      <th>治愈</th>\n",
       "      <th>死亡</th>\n",
       "      <th>其他</th>\n",
       "    </tr>\n",
       "  </thead>\n",
       "  <tbody>\n",
       "    <tr>\n",
       "      <th>0</th>\n",
       "      <td>香港</td>\n",
       "      <td>553</td>\n",
       "      <td>1016  较上日+3</td>\n",
       "      <td>459</td>\n",
       "      <td>4.0</td>\n",
       "      <td>详情</td>\n",
       "    </tr>\n",
       "    <tr>\n",
       "      <th>1</th>\n",
       "      <td>山西</td>\n",
       "      <td>51</td>\n",
       "      <td>186  较上日+13</td>\n",
       "      <td>135</td>\n",
       "      <td>0.0</td>\n",
       "      <td>详情</td>\n",
       "    </tr>\n",
       "    <tr>\n",
       "      <th>2</th>\n",
       "      <td>澳门</td>\n",
       "      <td>30</td>\n",
       "      <td>45  6天0新增</td>\n",
       "      <td>15</td>\n",
       "      <td>0.0</td>\n",
       "      <td>详情</td>\n",
       "    </tr>\n",
       "  </tbody>\n",
       "</table>\n",
       "</div>"
      ],
      "text/plain": [
       "   地区 现有确诊         累计确诊   治愈   死亡  其他\n",
       "0  香港  553  1016  较上日+3  459  4.0  详情\n",
       "1  山西   51  186  较上日+13  135  0.0  详情\n",
       "2  澳门   30    45  6天0新增   15  0.0  详情"
      ]
     },
     "execution_count": 48,
     "metadata": {},
     "output_type": "execute_result"
    }
   ],
   "source": [
    "df_c.head(3)"
   ]
  },
  {
   "cell_type": "code",
   "execution_count": 49,
   "metadata": {},
   "outputs": [],
   "source": [
    "# 对新增确诊的seriers并values求和 ，过程中将新增确诊的values强制转为int\n",
    "sum_ = sum([ int(x) for x in df_c['现有确诊'] ])\n",
    "dict_ = {'地区':pd.Series(['中国']),'现有确诊':pd.Series([sum_])}\n",
    "df_c = pd.DataFrame(dict_)"
   ]
  },
  {
   "cell_type": "markdown",
   "metadata": {},
   "source": [
    "- 上述的求和，pandas有更简单的方式 \n",
    "    - sum( list(df_c['新增确诊'].astype(int)) )"
   ]
  },
  {
   "cell_type": "code",
   "execution_count": 50,
   "metadata": {
    "scrolled": true
   },
   "outputs": [
    {
     "data": {
      "text/html": [
       "<div>\n",
       "<style scoped>\n",
       "    .dataframe tbody tr th:only-of-type {\n",
       "        vertical-align: middle;\n",
       "    }\n",
       "\n",
       "    .dataframe tbody tr th {\n",
       "        vertical-align: top;\n",
       "    }\n",
       "\n",
       "    .dataframe thead th {\n",
       "        text-align: right;\n",
       "    }\n",
       "</style>\n",
       "<table border=\"1\" class=\"dataframe\">\n",
       "  <thead>\n",
       "    <tr style=\"text-align: right;\">\n",
       "      <th></th>\n",
       "      <th>地区</th>\n",
       "      <th>现有确诊</th>\n",
       "    </tr>\n",
       "  </thead>\n",
       "  <tbody>\n",
       "    <tr>\n",
       "      <th>0</th>\n",
       "      <td>中国</td>\n",
       "      <td>1965</td>\n",
       "    </tr>\n",
       "  </tbody>\n",
       "</table>\n",
       "</div>"
      ],
      "text/plain": [
       "   地区  现有确诊\n",
       "0  中国  1965"
      ]
     },
     "execution_count": 50,
     "metadata": {},
     "output_type": "execute_result"
    }
   ],
   "source": [
    "df_c.head()"
   ]
  },
  {
   "cell_type": "code",
   "execution_count": 51,
   "metadata": {},
   "outputs": [],
   "source": [
    "df_f = foreign_df"
   ]
  },
  {
   "cell_type": "code",
   "execution_count": 52,
   "metadata": {},
   "outputs": [
    {
     "data": {
      "text/html": [
       "<div>\n",
       "<style scoped>\n",
       "    .dataframe tbody tr th:only-of-type {\n",
       "        vertical-align: middle;\n",
       "    }\n",
       "\n",
       "    .dataframe tbody tr th {\n",
       "        vertical-align: top;\n",
       "    }\n",
       "\n",
       "    .dataframe thead th {\n",
       "        text-align: right;\n",
       "    }\n",
       "</style>\n",
       "<table border=\"1\" class=\"dataframe\">\n",
       "  <thead>\n",
       "    <tr style=\"text-align: right;\">\n",
       "      <th></th>\n",
       "      <th>地区</th>\n",
       "      <th>新增确诊</th>\n",
       "      <th>累计确诊</th>\n",
       "      <th>治愈</th>\n",
       "      <th>死亡</th>\n",
       "      <th>疫情</th>\n",
       "    </tr>\n",
       "  </thead>\n",
       "  <tbody>\n",
       "    <tr>\n",
       "      <th>0</th>\n",
       "      <td>美国</td>\n",
       "      <td>26465</td>\n",
       "      <td>609685</td>\n",
       "      <td>49966</td>\n",
       "      <td>26059</td>\n",
       "      <td>详情</td>\n",
       "    </tr>\n",
       "    <tr>\n",
       "      <th>1</th>\n",
       "      <td>英国</td>\n",
       "      <td>5278</td>\n",
       "      <td>94847</td>\n",
       "      <td>344</td>\n",
       "      <td>12131</td>\n",
       "      <td>详情</td>\n",
       "    </tr>\n",
       "    <tr>\n",
       "      <th>2</th>\n",
       "      <td>西班牙</td>\n",
       "      <td>5092</td>\n",
       "      <td>177633</td>\n",
       "      <td>70853</td>\n",
       "      <td>18579</td>\n",
       "      <td>详情</td>\n",
       "    </tr>\n",
       "  </tbody>\n",
       "</table>\n",
       "</div>"
      ],
      "text/plain": [
       "    地区   新增确诊    累计确诊     治愈     死亡  疫情\n",
       "0   美国  26465  609685  49966  26059  详情\n",
       "1   英国   5278   94847    344  12131  详情\n",
       "2  西班牙   5092  177633  70853  18579  详情"
      ]
     },
     "execution_count": 52,
     "metadata": {},
     "output_type": "execute_result"
    }
   ],
   "source": [
    "df_f.head(3)"
   ]
  },
  {
   "cell_type": "code",
   "execution_count": 53,
   "metadata": {
    "scrolled": true
   },
   "outputs": [],
   "source": [
    "# 将累计确诊、治愈、死亡的数据类型强制转为int，并生成list\n",
    "cumulative_confirm = list(df_f['累计确诊']) \n",
    "cure = list(df_f['治愈'])\n",
    "death = list(df_f['死亡'])\n",
    "# 现有确诊 = 累计确诊-治愈-死亡   注意： 列表没有减法，集合有减法但是集合会排序，所以都不行\n",
    "existing_confirm= []\n",
    "for i in range(len(cumulative_confirm)):\n",
    "    t = cumulative_confirm[i]-cure[i]-death[i]\n",
    "    existing_confirm.append(t)"
   ]
  },
  {
   "cell_type": "code",
   "execution_count": 54,
   "metadata": {},
   "outputs": [],
   "source": [
    "#  生成df\n",
    "dict_ = {'地区':df_f['地区'],'现有确诊':pd.Series(existing_confirm)}\n",
    "df_f = pd.DataFrame(dict_)\n",
    "# 按现有确诊排序，并重置index标签\n",
    "df_f = df_f.sort_values('现有确诊',ascending=False)\n",
    "df_f = df_f.reset_index(drop=True)"
   ]
  },
  {
   "cell_type": "code",
   "execution_count": 55,
   "metadata": {},
   "outputs": [
    {
     "data": {
      "text/html": [
       "<div>\n",
       "<style scoped>\n",
       "    .dataframe tbody tr th:only-of-type {\n",
       "        vertical-align: middle;\n",
       "    }\n",
       "\n",
       "    .dataframe tbody tr th {\n",
       "        vertical-align: top;\n",
       "    }\n",
       "\n",
       "    .dataframe thead th {\n",
       "        text-align: right;\n",
       "    }\n",
       "</style>\n",
       "<table border=\"1\" class=\"dataframe\">\n",
       "  <thead>\n",
       "    <tr style=\"text-align: right;\">\n",
       "      <th></th>\n",
       "      <th>地区</th>\n",
       "      <th>现有确诊</th>\n",
       "    </tr>\n",
       "  </thead>\n",
       "  <tbody>\n",
       "    <tr>\n",
       "      <th>0</th>\n",
       "      <td>美国</td>\n",
       "      <td>533660</td>\n",
       "    </tr>\n",
       "    <tr>\n",
       "      <th>1</th>\n",
       "      <td>意大利</td>\n",
       "      <td>104291</td>\n",
       "    </tr>\n",
       "    <tr>\n",
       "      <th>2</th>\n",
       "      <td>西班牙</td>\n",
       "      <td>88201</td>\n",
       "    </tr>\n",
       "    <tr>\n",
       "      <th>3</th>\n",
       "      <td>法国</td>\n",
       "      <td>86491</td>\n",
       "    </tr>\n",
       "    <tr>\n",
       "      <th>4</th>\n",
       "      <td>英国</td>\n",
       "      <td>82372</td>\n",
       "    </tr>\n",
       "  </tbody>\n",
       "</table>\n",
       "</div>"
      ],
      "text/plain": [
       "    地区    现有确诊\n",
       "0   美国  533660\n",
       "1  意大利  104291\n",
       "2  西班牙   88201\n",
       "3   法国   86491\n",
       "4   英国   82372"
      ]
     },
     "execution_count": 55,
     "metadata": {},
     "output_type": "execute_result"
    }
   ],
   "source": [
    "df_f.head()"
   ]
  },
  {
   "cell_type": "code",
   "execution_count": 56,
   "metadata": {},
   "outputs": [],
   "source": [
    "# 合并df_c 和 df_f (追加的方式)\n",
    "df = df_c.append(df_f)"
   ]
  },
  {
   "cell_type": "code",
   "execution_count": 57,
   "metadata": {},
   "outputs": [],
   "source": [
    "# 对合并后的df，按新增确诊进行排序（降序）\n",
    "df = df.sort_values('现有确诊',ascending=False)\n",
    "# 重置index标签\n",
    "df = df.reset_index(drop=True)"
   ]
  },
  {
   "cell_type": "code",
   "execution_count": 58,
   "metadata": {},
   "outputs": [
    {
     "data": {
      "text/html": [
       "<div>\n",
       "<style scoped>\n",
       "    .dataframe tbody tr th:only-of-type {\n",
       "        vertical-align: middle;\n",
       "    }\n",
       "\n",
       "    .dataframe tbody tr th {\n",
       "        vertical-align: top;\n",
       "    }\n",
       "\n",
       "    .dataframe thead th {\n",
       "        text-align: right;\n",
       "    }\n",
       "</style>\n",
       "<table border=\"1\" class=\"dataframe\">\n",
       "  <thead>\n",
       "    <tr style=\"text-align: right;\">\n",
       "      <th></th>\n",
       "      <th>地区</th>\n",
       "      <th>现有确诊</th>\n",
       "    </tr>\n",
       "  </thead>\n",
       "  <tbody>\n",
       "    <tr>\n",
       "      <th>0</th>\n",
       "      <td>美国</td>\n",
       "      <td>533660</td>\n",
       "    </tr>\n",
       "    <tr>\n",
       "      <th>1</th>\n",
       "      <td>意大利</td>\n",
       "      <td>104291</td>\n",
       "    </tr>\n",
       "    <tr>\n",
       "      <th>2</th>\n",
       "      <td>西班牙</td>\n",
       "      <td>88201</td>\n",
       "    </tr>\n",
       "    <tr>\n",
       "      <th>3</th>\n",
       "      <td>法国</td>\n",
       "      <td>86491</td>\n",
       "    </tr>\n",
       "    <tr>\n",
       "      <th>4</th>\n",
       "      <td>英国</td>\n",
       "      <td>82372</td>\n",
       "    </tr>\n",
       "  </tbody>\n",
       "</table>\n",
       "</div>"
      ],
      "text/plain": [
       "    地区    现有确诊\n",
       "0   美国  533660\n",
       "1  意大利  104291\n",
       "2  西班牙   88201\n",
       "3   法国   86491\n",
       "4   英国   82372"
      ]
     },
     "execution_count": 58,
     "metadata": {},
     "output_type": "execute_result"
    }
   ],
   "source": [
    "df.head()"
   ]
  },
  {
   "cell_type": "markdown",
   "metadata": {},
   "source": [
    "#### 可视化"
   ]
  },
  {
   "cell_type": "code",
   "execution_count": 59,
   "metadata": {},
   "outputs": [],
   "source": [
    "# series 可以直接转为 list\n",
    "countrys = list(df['地区'])\n",
    "existing_confirm=list(df['现有确诊'])"
   ]
  },
  {
   "cell_type": "markdown",
   "metadata": {},
   "source": [
    "注意：pycharts 的全球地图不可以用中文名。所以我们要进行国家名称的转化   "
   ]
  },
  {
   "cell_type": "code",
   "execution_count": 60,
   "metadata": {},
   "outputs": [],
   "source": [
    "# 我读入一个国家名称的中英映射文件，用于中英转化。\n",
    "import json\n",
    "with open('name_map.json','r',encoding='utf-8') as json_file:\n",
    "    # json.dump()和json.load()用于读写。 dumps()和loads()用于dict和json的转换\n",
    "    name_map = json.load(json_file)"
   ]
  },
  {
   "cell_type": "code",
   "execution_count": 61,
   "metadata": {},
   "outputs": [],
   "source": [
    "# 键值互换  \n",
    "# name_map = dict(zip(name_map.values(),name_map.keys()))"
   ]
  },
  {
   "cell_type": "code",
   "execution_count": 62,
   "metadata": {
    "scrolled": false
   },
   "outputs": [
    {
     "name": "stdout",
     "output_type": "stream",
     "text": [
      "新加坡\n",
      "Singapore Rep.\n"
     ]
    }
   ],
   "source": [
    "# test \n",
    "print( list(name_map.keys())[0] )\n",
    "print( list(name_map.values())[0] )"
   ]
  },
  {
   "cell_type": "code",
   "execution_count": 63,
   "metadata": {},
   "outputs": [],
   "source": [
    "# 将国家名称改为英文   注意用 dict.get()方法，因为不能保证一定有完整的映射关系。\n",
    "countrys = [name_map.get(name) for name in countrys]"
   ]
  },
  {
   "cell_type": "code",
   "execution_count": 64,
   "metadata": {},
   "outputs": [],
   "source": [
    "list_=[list(z) for z in zip(countrys,existing_confirm)]\n",
    "# 剔除国家名称为空的数据\n",
    "list_=[x for x in list_ if x[0]!=None]"
   ]
  },
  {
   "cell_type": "markdown",
   "metadata": {},
   "source": [
    "#### pyecharts\n",
    "https://pyecharts.readthedocs.io/projects/pyecharts-en/zh/latest/zh-cn/customize_map/\n",
    "\n",
    "pip install pyecharts\n",
    "\n",
    "pip install echarts-china-provinces-pypkg\n",
    "\n",
    "pip install echarts-countries-pypkg   "
   ]
  },
  {
   "cell_type": "code",
   "execution_count": 65,
   "metadata": {},
   "outputs": [],
   "source": [
    "from pyecharts.charts import Map\n",
    "from pyecharts import options as opts"
   ]
  },
  {
   "cell_type": "code",
   "execution_count": null,
   "metadata": {
    "scrolled": false
   },
   "outputs": [],
   "source": []
  },
  {
   "cell_type": "code",
   "execution_count": 66,
   "metadata": {},
   "outputs": [],
   "source": [
    "# 数据划分等级\n",
    "pieces = [\n",
    "    {'min':0,'max':99},\n",
    "    {'min':100,'max':999},\n",
    "    {'min':1000,'max':9999},\n",
    "    {'min':10000,'max':99999},\n",
    "    {'min':100000},\n",
    "]\n",
    "\n",
    "map_world = (\n",
    "Map()\n",
    ".add('世界疫情现有确诊',list_,'world')\n",
    ".set_series_opts(label_opts=opts.LabelOpts(is_show=False))\n",
    ".set_global_opts(visualmap_opts=opts.VisualMapOpts(is_show=True,is_piecewise=True,pieces=pieces))\n",
    ")"
   ]
  },
  {
   "cell_type": "code",
   "execution_count": 67,
   "metadata": {
    "scrolled": false
   },
   "outputs": [
    {
     "data": {
      "text/html": [
       "\n",
       "<script>\n",
       "    require.config({\n",
       "        paths: {\n",
       "            'echarts':'https://assets.pyecharts.org/assets/echarts.min', 'world':'https://assets.pyecharts.org/assets/maps/world'\n",
       "        }\n",
       "    });\n",
       "</script>\n",
       "\n",
       "        <div id=\"af8a126de2c840d3834e2d9a4366fbcc\" style=\"width:900px; height:500px;\"></div>\n",
       "\n",
       "<script>\n",
       "        require(['echarts', 'world'], function(echarts) {\n",
       "                var chart_af8a126de2c840d3834e2d9a4366fbcc = echarts.init(\n",
       "                    document.getElementById('af8a126de2c840d3834e2d9a4366fbcc'), 'white', {renderer: 'canvas'});\n",
       "                var option_af8a126de2c840d3834e2d9a4366fbcc = {\n",
       "    \"animation\": true,\n",
       "    \"animationThreshold\": 2000,\n",
       "    \"animationDuration\": 1000,\n",
       "    \"animationEasing\": \"cubicOut\",\n",
       "    \"animationDelay\": 0,\n",
       "    \"animationDurationUpdate\": 300,\n",
       "    \"animationEasingUpdate\": \"cubicOut\",\n",
       "    \"animationDelayUpdate\": 0,\n",
       "    \"color\": [\n",
       "        \"#c23531\",\n",
       "        \"#2f4554\",\n",
       "        \"#61a0a8\",\n",
       "        \"#d48265\",\n",
       "        \"#749f83\",\n",
       "        \"#ca8622\",\n",
       "        \"#bda29a\",\n",
       "        \"#6e7074\",\n",
       "        \"#546570\",\n",
       "        \"#c4ccd3\",\n",
       "        \"#f05b72\",\n",
       "        \"#ef5b9c\",\n",
       "        \"#f47920\",\n",
       "        \"#905a3d\",\n",
       "        \"#fab27b\",\n",
       "        \"#2a5caa\",\n",
       "        \"#444693\",\n",
       "        \"#726930\",\n",
       "        \"#b2d235\",\n",
       "        \"#6d8346\",\n",
       "        \"#ac6767\",\n",
       "        \"#1d953f\",\n",
       "        \"#6950a1\",\n",
       "        \"#918597\"\n",
       "    ],\n",
       "    \"series\": [\n",
       "        {\n",
       "            \"type\": \"map\",\n",
       "            \"name\": \"\\u4e16\\u754c\\u75ab\\u60c5\\u73b0\\u6709\\u786e\\u8bca\",\n",
       "            \"label\": {\n",
       "                \"show\": false,\n",
       "                \"position\": \"top\",\n",
       "                \"margin\": 8\n",
       "            },\n",
       "            \"mapType\": \"world\",\n",
       "            \"data\": [\n",
       "                {\n",
       "                    \"name\": \"United States\",\n",
       "                    \"value\": 533660\n",
       "                },\n",
       "                {\n",
       "                    \"name\": \"Italy\",\n",
       "                    \"value\": 104291\n",
       "                },\n",
       "                {\n",
       "                    \"name\": \"Spain\",\n",
       "                    \"value\": 88201\n",
       "                },\n",
       "                {\n",
       "                    \"name\": \"France\",\n",
       "                    \"value\": 86491\n",
       "                },\n",
       "                {\n",
       "                    \"name\": \"United Kingdom\",\n",
       "                    \"value\": 82372\n",
       "                },\n",
       "                {\n",
       "                    \"name\": \"Turkey\",\n",
       "                    \"value\": 58909\n",
       "                },\n",
       "                {\n",
       "                    \"name\": \"Germany\",\n",
       "                    \"value\": 56115\n",
       "                },\n",
       "                {\n",
       "                    \"name\": \"Netherlands\",\n",
       "                    \"value\": 24873\n",
       "                },\n",
       "                {\n",
       "                    \"name\": \"Russia\",\n",
       "                    \"value\": 22306\n",
       "                },\n",
       "                {\n",
       "                    \"name\": \"Belgium\",\n",
       "                    \"value\": 22026\n",
       "                },\n",
       "                {\n",
       "                    \"name\": \"Iran\",\n",
       "                    \"value\": 21679\n",
       "                },\n",
       "                {\n",
       "                    \"name\": \"Canada\",\n",
       "                    \"value\": 17925\n",
       "                },\n",
       "                {\n",
       "                    \"name\": \"Portugal\",\n",
       "                    \"value\": 17109\n",
       "                },\n",
       "                {\n",
       "                    \"name\": \"Ireland\",\n",
       "                    \"value\": 10996\n",
       "                },\n",
       "                {\n",
       "                    \"name\": \"Sweden\",\n",
       "                    \"value\": 10343\n",
       "                },\n",
       "                {\n",
       "                    \"name\": \"Brazil\",\n",
       "                    \"value\": 10175\n",
       "                },\n",
       "                {\n",
       "                    \"name\": \"Switzerland\",\n",
       "                    \"value\": 10133\n",
       "                },\n",
       "                {\n",
       "                    \"name\": \"India\",\n",
       "                    \"value\": 9797\n",
       "                },\n",
       "                {\n",
       "                    \"name\": \"Israel\",\n",
       "                    \"value\": 9765\n",
       "                },\n",
       "                {\n",
       "                    \"name\": \"Peru\",\n",
       "                    \"value\": 7204\n",
       "                },\n",
       "                {\n",
       "                    \"name\": \"Ecuador\",\n",
       "                    \"value\": 6538\n",
       "                },\n",
       "                {\n",
       "                    \"name\": \"Norway\",\n",
       "                    \"value\": 6512\n",
       "                },\n",
       "                {\n",
       "                    \"name\": \"Poland\",\n",
       "                    \"value\": 6472\n",
       "                },\n",
       "                {\n",
       "                    \"name\": \"Austria\",\n",
       "                    \"value\": 5806\n",
       "                },\n",
       "                {\n",
       "                    \"name\": \"Romania\",\n",
       "                    \"value\": 5637\n",
       "                },\n",
       "                {\n",
       "                    \"name\": \"Czech Rep.\",\n",
       "                    \"value\": 5312\n",
       "                },\n",
       "                {\n",
       "                    \"name\": \"Chile\",\n",
       "                    \"value\": 5179\n",
       "                },\n",
       "                {\n",
       "                    \"name\": \"Philippines\",\n",
       "                    \"value\": 4751\n",
       "                },\n",
       "                {\n",
       "                    \"name\": \"Pakistan\",\n",
       "                    \"value\": 4435\n",
       "                },\n",
       "                {\n",
       "                    \"name\": \"Saudi Arabia\",\n",
       "                    \"value\": 4407\n",
       "                },\n",
       "                {\n",
       "                    \"name\": \"Serbia\",\n",
       "                    \"value\": 4253\n",
       "                },\n",
       "                {\n",
       "                    \"name\": \"Indonesia\",\n",
       "                    \"value\": 4221\n",
       "                },\n",
       "                {\n",
       "                    \"name\": \"Australia\",\n",
       "                    \"value\": 4191\n",
       "                },\n",
       "                {\n",
       "                    \"name\": \"United Arab Emirates\",\n",
       "                    \"value\": 3972\n",
       "                },\n",
       "                {\n",
       "                    \"name\": \"Denmark\",\n",
       "                    \"value\": 3875\n",
       "                },\n",
       "                {\n",
       "                    \"name\": \"Ukraine\",\n",
       "                    \"value\": 3513\n",
       "                },\n",
       "                {\n",
       "                    \"name\": \"Belarus\",\n",
       "                    \"value\": 3489\n",
       "                },\n",
       "                {\n",
       "                    \"name\": \"Panama\",\n",
       "                    \"value\": 3407\n",
       "                },\n",
       "                {\n",
       "                    \"name\": \"Qatar\",\n",
       "                    \"value\": 3298\n",
       "                },\n",
       "                {\n",
       "                    \"name\": \"Dominican Rep.\",\n",
       "                    \"value\": 2941\n",
       "                },\n",
       "                {\n",
       "                    \"name\": \"Finland\",\n",
       "                    \"value\": 2873\n",
       "                },\n",
       "                {\n",
       "                    \"name\": \"Mexico\",\n",
       "                    \"value\": 2868\n",
       "                },\n",
       "                {\n",
       "                    \"name\": \"Korea\",\n",
       "                    \"value\": 2750\n",
       "                },\n",
       "                {\n",
       "                    \"name\": \"Luxembourg\",\n",
       "                    \"value\": 2740\n",
       "                },\n",
       "                {\n",
       "                    \"name\": \"Singapore Rep.\",\n",
       "                    \"value\": 2631\n",
       "                },\n",
       "                {\n",
       "                    \"name\": \"Colombia\",\n",
       "                    \"value\": 2498\n",
       "                },\n",
       "                {\n",
       "                    \"name\": \"Malaysia\",\n",
       "                    \"value\": 2342\n",
       "                },\n",
       "                {\n",
       "                    \"name\": \"South Africa\",\n",
       "                    \"value\": 1978\n",
       "                },\n",
       "                {\n",
       "                    \"name\": \"China\",\n",
       "                    \"value\": 1965\n",
       "                },\n",
       "                {\n",
       "                    \"name\": \"Greece\",\n",
       "                    \"value\": 1800\n",
       "                },\n",
       "                {\n",
       "                    \"name\": \"Argentina\",\n",
       "                    \"value\": 1779\n",
       "                },\n",
       "                {\n",
       "                    \"name\": \"Moldova\",\n",
       "                    \"value\": 1720\n",
       "                },\n",
       "                {\n",
       "                    \"name\": \"Morocco\",\n",
       "                    \"value\": 1643\n",
       "                },\n",
       "                {\n",
       "                    \"name\": \"Egypt\",\n",
       "                    \"value\": 1583\n",
       "                },\n",
       "                {\n",
       "                    \"name\": \"Hungary\",\n",
       "                    \"value\": 1253\n",
       "                },\n",
       "                {\n",
       "                    \"name\": \"Estonia\",\n",
       "                    \"value\": 1248\n",
       "                },\n",
       "                {\n",
       "                    \"name\": \"Croatia\",\n",
       "                    \"value\": 1234\n",
       "                },\n",
       "                {\n",
       "                    \"name\": \"Kuwait\",\n",
       "                    \"value\": 1196\n",
       "                },\n",
       "                {\n",
       "                    \"name\": \"Uzbekistan\",\n",
       "                    \"value\": 1172\n",
       "                },\n",
       "                {\n",
       "                    \"name\": \"Thailand\",\n",
       "                    \"value\": 1103\n",
       "                },\n",
       "                {\n",
       "                    \"name\": \"Kazakhstan\",\n",
       "                    \"value\": 1055\n",
       "                },\n",
       "                {\n",
       "                    \"name\": \"Algeria\",\n",
       "                    \"value\": 1053\n",
       "                },\n",
       "                {\n",
       "                    \"name\": \"Slovenia\",\n",
       "                    \"value\": 1022\n",
       "                },\n",
       "                {\n",
       "                    \"name\": \"Lithuania\",\n",
       "                    \"value\": 924\n",
       "                },\n",
       "                {\n",
       "                    \"name\": \"Azerbaijan\",\n",
       "                    \"value\": 833\n",
       "                },\n",
       "                {\n",
       "                    \"name\": \"Armenia\",\n",
       "                    \"value\": 797\n",
       "                },\n",
       "                {\n",
       "                    \"name\": \"Oman\",\n",
       "                    \"value\": 775\n",
       "                },\n",
       "                {\n",
       "                    \"name\": \"Iceland\",\n",
       "                    \"value\": 723\n",
       "                },\n",
       "                {\n",
       "                    \"name\": \"Afghanistan\",\n",
       "                    \"value\": 716\n",
       "                },\n",
       "                {\n",
       "                    \"name\": \"Slovakia\",\n",
       "                    \"value\": 710\n",
       "                },\n",
       "                {\n",
       "                    \"name\": \"Cameroon\",\n",
       "                    \"value\": 704\n",
       "                },\n",
       "                {\n",
       "                    \"name\": \"Tunisia\",\n",
       "                    \"value\": 670\n",
       "                },\n",
       "                {\n",
       "                    \"name\": \"New Zealand\",\n",
       "                    \"value\": 649\n",
       "                },\n",
       "                {\n",
       "                    \"name\": \"Cyprus\",\n",
       "                    \"value\": 618\n",
       "                },\n",
       "                {\n",
       "                    \"name\": \"Latvia\",\n",
       "                    \"value\": 617\n",
       "                },\n",
       "                {\n",
       "                    \"name\": \"Cuba\",\n",
       "                    \"value\": 613\n",
       "                },\n",
       "                {\n",
       "                    \"name\": \"Ghana\",\n",
       "                    \"value\": 611\n",
       "                },\n",
       "                {\n",
       "                    \"name\": \"Bulgaria\",\n",
       "                    \"value\": 594\n",
       "                },\n",
       "                {\n",
       "                    \"name\": \"Iraq\",\n",
       "                    \"value\": 556\n",
       "                },\n",
       "                {\n",
       "                    \"name\": \"Lebanon\",\n",
       "                    \"value\": 556\n",
       "                },\n",
       "                {\n",
       "                    \"name\": \"Costa Rica\",\n",
       "                    \"value\": 549\n",
       "                },\n",
       "                {\n",
       "                    \"name\": \"C\\u00f4te d'Ivoire\",\n",
       "                    \"value\": 518\n",
       "                },\n",
       "                {\n",
       "                    \"name\": \"Niger\",\n",
       "                    \"value\": 466\n",
       "                },\n",
       "                {\n",
       "                    \"name\": \"Honduras\",\n",
       "                    \"value\": 379\n",
       "                },\n",
       "                {\n",
       "                    \"name\": \"Kyrgyzstan\",\n",
       "                    \"value\": 366\n",
       "                },\n",
       "                {\n",
       "                    \"name\": \"Bolivia\",\n",
       "                    \"value\": 362\n",
       "                },\n",
       "                {\n",
       "                    \"name\": \"Guinea\",\n",
       "                    \"value\": 332\n",
       "                },\n",
       "                {\n",
       "                    \"name\": \"Burkina Faso\",\n",
       "                    \"value\": 321\n",
       "                },\n",
       "                {\n",
       "                    \"name\": \"Djibouti\",\n",
       "                    \"value\": 308\n",
       "                },\n",
       "                {\n",
       "                    \"name\": \"Puerto Rico\",\n",
       "                    \"value\": 304\n",
       "                },\n",
       "                {\n",
       "                    \"name\": \"Nigeria\",\n",
       "                    \"value\": 263\n",
       "                },\n",
       "                {\n",
       "                    \"name\": \"Montenegro\",\n",
       "                    \"value\": 238\n",
       "                },\n",
       "                {\n",
       "                    \"name\": \"Georgia\",\n",
       "                    \"value\": 234\n",
       "                },\n",
       "                {\n",
       "                    \"name\": \"Uruguay\",\n",
       "                    \"value\": 224\n",
       "                },\n",
       "                {\n",
       "                    \"name\": \"Albania\",\n",
       "                    \"value\": 218\n",
       "                },\n",
       "                {\n",
       "                    \"name\": \"Sri Lanka\",\n",
       "                    \"value\": 165\n",
       "                },\n",
       "                {\n",
       "                    \"name\": \"Kenya\",\n",
       "                    \"value\": 162\n",
       "                },\n",
       "                {\n",
       "                    \"name\": \"Guatemala\",\n",
       "                    \"value\": 156\n",
       "                },\n",
       "                {\n",
       "                    \"name\": \"Jordan\",\n",
       "                    \"value\": 155\n",
       "                },\n",
       "                {\n",
       "                    \"name\": \"Palestine\",\n",
       "                    \"value\": 142\n",
       "                },\n",
       "                {\n",
       "                    \"name\": \"Paraguay\",\n",
       "                    \"value\": 130\n",
       "                },\n",
       "                {\n",
       "                    \"name\": \"El Salvador\",\n",
       "                    \"value\": 123\n",
       "                },\n",
       "                {\n",
       "                    \"name\": \"Senegal\",\n",
       "                    \"value\": 122\n",
       "                },\n",
       "                {\n",
       "                    \"name\": \"Mali\",\n",
       "                    \"value\": 97\n",
       "                },\n",
       "                {\n",
       "                    \"name\": \"Vietnam\",\n",
       "                    \"value\": 96\n",
       "                },\n",
       "                {\n",
       "                    \"name\": \"Madagascar\",\n",
       "                    \"value\": 85\n",
       "                },\n",
       "                {\n",
       "                    \"name\": \"Rwanda\",\n",
       "                    \"value\": 85\n",
       "                },\n",
       "                {\n",
       "                    \"name\": \"Jamaica\",\n",
       "                    \"value\": 79\n",
       "                },\n",
       "                {\n",
       "                    \"name\": \"Venezuela\",\n",
       "                    \"value\": 77\n",
       "                },\n",
       "                {\n",
       "                    \"name\": \"Gabon\",\n",
       "                    \"value\": 75\n",
       "                },\n",
       "                {\n",
       "                    \"name\": \"Myanmar\",\n",
       "                    \"value\": 68\n",
       "                },\n",
       "                {\n",
       "                    \"name\": \"Ethiopia\",\n",
       "                    \"value\": 67\n",
       "                },\n",
       "                {\n",
       "                    \"name\": \"Somalia\",\n",
       "                    \"value\": 56\n",
       "                },\n",
       "                {\n",
       "                    \"name\": \"Tanzania\",\n",
       "                    \"value\": 49\n",
       "                },\n",
       "                {\n",
       "                    \"name\": \"Liberia\",\n",
       "                    \"value\": 49\n",
       "                },\n",
       "                {\n",
       "                    \"name\": \"Uganda\",\n",
       "                    \"value\": 47\n",
       "                },\n",
       "                {\n",
       "                    \"name\": \"Guinea Bissau\",\n",
       "                    \"value\": 43\n",
       "                },\n",
       "                {\n",
       "                    \"name\": \"Togo\",\n",
       "                    \"value\": 43\n",
       "                },\n",
       "                {\n",
       "                    \"name\": \"Haiti\",\n",
       "                    \"value\": 37\n",
       "                },\n",
       "                {\n",
       "                    \"name\": \"Eq. Guinea\",\n",
       "                    \"value\": 37\n",
       "                },\n",
       "                {\n",
       "                    \"name\": \"Eritrea\",\n",
       "                    \"value\": 35\n",
       "                },\n",
       "                {\n",
       "                    \"name\": \"The Bahamas\",\n",
       "                    \"value\": 35\n",
       "                },\n",
       "                {\n",
       "                    \"name\": \"Guyana\",\n",
       "                    \"value\": 33\n",
       "                },\n",
       "                {\n",
       "                    \"name\": \"Brunei\",\n",
       "                    \"value\": 27\n",
       "                },\n",
       "                {\n",
       "                    \"name\": \"Mozambique\",\n",
       "                    \"value\": 26\n",
       "                },\n",
       "                {\n",
       "                    \"name\": \"Cambodia\",\n",
       "                    \"value\": 26\n",
       "                },\n",
       "                {\n",
       "                    \"name\": \"Mongolia\",\n",
       "                    \"value\": 25\n",
       "                },\n",
       "                {\n",
       "                    \"name\": \"Libya\",\n",
       "                    \"value\": 25\n",
       "                },\n",
       "                {\n",
       "                    \"name\": \"Sudan\",\n",
       "                    \"value\": 23\n",
       "                },\n",
       "                {\n",
       "                    \"name\": \"Syria\",\n",
       "                    \"value\": 22\n",
       "                },\n",
       "                {\n",
       "                    \"name\": \"Chad\",\n",
       "                    \"value\": 21\n",
       "                },\n",
       "                {\n",
       "                    \"name\": \"Lao PDR\",\n",
       "                    \"value\": 18\n",
       "                },\n",
       "                {\n",
       "                    \"name\": \"Benin\",\n",
       "                    \"value\": 16\n",
       "                },\n",
       "                {\n",
       "                    \"name\": \"Zambia\",\n",
       "                    \"value\": 16\n",
       "                },\n",
       "                {\n",
       "                    \"name\": \"Belize\",\n",
       "                    \"value\": 16\n",
       "                },\n",
       "                {\n",
       "                    \"name\": \"Nepal\",\n",
       "                    \"value\": 15\n",
       "                },\n",
       "                {\n",
       "                    \"name\": \"Zimbabwe\",\n",
       "                    \"value\": 14\n",
       "                },\n",
       "                {\n",
       "                    \"name\": \"Malawi\",\n",
       "                    \"value\": 14\n",
       "                },\n",
       "                {\n",
       "                    \"name\": \"Sierra Leone\",\n",
       "                    \"value\": 13\n",
       "                },\n",
       "                {\n",
       "                    \"name\": \"Namibia\",\n",
       "                    \"value\": 13\n",
       "                },\n",
       "                {\n",
       "                    \"name\": \"Angola\",\n",
       "                    \"value\": 12\n",
       "                },\n",
       "                {\n",
       "                    \"name\": \"Botswana\",\n",
       "                    \"value\": 12\n",
       "                },\n",
       "                {\n",
       "                    \"name\": \"Swaziland\",\n",
       "                    \"value\": 7\n",
       "                },\n",
       "                {\n",
       "                    \"name\": \"East Timor\",\n",
       "                    \"value\": 7\n",
       "                },\n",
       "                {\n",
       "                    \"name\": \"Gambia\",\n",
       "                    \"value\": 6\n",
       "                },\n",
       "                {\n",
       "                    \"name\": \"Burundi\",\n",
       "                    \"value\": 4\n",
       "                },\n",
       "                {\n",
       "                    \"name\": \"Mauritania\",\n",
       "                    \"value\": 4\n",
       "                },\n",
       "                {\n",
       "                    \"name\": \"Nicaragua\",\n",
       "                    \"value\": 4\n",
       "                },\n",
       "                {\n",
       "                    \"name\": \"Bhutan\",\n",
       "                    \"value\": 3\n",
       "                },\n",
       "                {\n",
       "                    \"name\": \"Suriname\",\n",
       "                    \"value\": 3\n",
       "                },\n",
       "                {\n",
       "                    \"name\": \"Papua New Guinea\",\n",
       "                    \"value\": 2\n",
       "                },\n",
       "                {\n",
       "                    \"name\": \"Yemen\",\n",
       "                    \"value\": 1\n",
       "                }\n",
       "            ],\n",
       "            \"roam\": true,\n",
       "            \"zoom\": 1,\n",
       "            \"showLegendSymbol\": true,\n",
       "            \"emphasis\": {},\n",
       "            \"rippleEffect\": {\n",
       "                \"show\": true,\n",
       "                \"brushType\": \"stroke\",\n",
       "                \"scale\": 2.5,\n",
       "                \"period\": 4\n",
       "            }\n",
       "        }\n",
       "    ],\n",
       "    \"legend\": [\n",
       "        {\n",
       "            \"data\": [\n",
       "                \"\\u4e16\\u754c\\u75ab\\u60c5\\u73b0\\u6709\\u786e\\u8bca\"\n",
       "            ],\n",
       "            \"selected\": {\n",
       "                \"\\u4e16\\u754c\\u75ab\\u60c5\\u73b0\\u6709\\u786e\\u8bca\": true\n",
       "            },\n",
       "            \"show\": true,\n",
       "            \"padding\": 5,\n",
       "            \"itemGap\": 10,\n",
       "            \"itemWidth\": 25,\n",
       "            \"itemHeight\": 14\n",
       "        }\n",
       "    ],\n",
       "    \"tooltip\": {\n",
       "        \"show\": true,\n",
       "        \"trigger\": \"item\",\n",
       "        \"triggerOn\": \"mousemove|click\",\n",
       "        \"axisPointer\": {\n",
       "            \"type\": \"line\"\n",
       "        },\n",
       "        \"textStyle\": {\n",
       "            \"fontSize\": 14\n",
       "        },\n",
       "        \"borderWidth\": 0\n",
       "    },\n",
       "    \"title\": [\n",
       "        {\n",
       "            \"padding\": 5,\n",
       "            \"itemGap\": 10\n",
       "        }\n",
       "    ],\n",
       "    \"visualMap\": {\n",
       "        \"show\": true,\n",
       "        \"type\": \"piecewise\",\n",
       "        \"min\": 0,\n",
       "        \"max\": 100,\n",
       "        \"inRange\": {\n",
       "            \"color\": [\n",
       "                \"#50a3ba\",\n",
       "                \"#eac763\",\n",
       "                \"#d94e5d\"\n",
       "            ]\n",
       "        },\n",
       "        \"calculable\": true,\n",
       "        \"inverse\": false,\n",
       "        \"splitNumber\": 5,\n",
       "        \"orient\": \"vertical\",\n",
       "        \"showLabel\": true,\n",
       "        \"itemWidth\": 20,\n",
       "        \"itemHeight\": 14,\n",
       "        \"borderWidth\": 0,\n",
       "        \"pieces\": [\n",
       "            {\n",
       "                \"min\": 0,\n",
       "                \"max\": 99\n",
       "            },\n",
       "            {\n",
       "                \"min\": 100,\n",
       "                \"max\": 999\n",
       "            },\n",
       "            {\n",
       "                \"min\": 1000,\n",
       "                \"max\": 9999\n",
       "            },\n",
       "            {\n",
       "                \"min\": 10000,\n",
       "                \"max\": 99999\n",
       "            },\n",
       "            {\n",
       "                \"min\": 100000\n",
       "            }\n",
       "        ]\n",
       "    }\n",
       "};\n",
       "                chart_af8a126de2c840d3834e2d9a4366fbcc.setOption(option_af8a126de2c840d3834e2d9a4366fbcc);\n",
       "        });\n",
       "    </script>\n"
      ],
      "text/plain": [
       "<pyecharts.render.display.HTML at 0x1edea179978>"
      ]
     },
     "execution_count": 67,
     "metadata": {},
     "output_type": "execute_result"
    }
   ],
   "source": [
    "map_world.render_notebook()"
   ]
  },
  {
   "cell_type": "code",
   "execution_count": null,
   "metadata": {},
   "outputs": [],
   "source": []
  },
  {
   "cell_type": "code",
   "execution_count": null,
   "metadata": {},
   "outputs": [],
   "source": []
  },
  {
   "cell_type": "code",
   "execution_count": null,
   "metadata": {},
   "outputs": [],
   "source": []
  }
 ],
 "metadata": {
  "kernelspec": {
   "display_name": "Python 3",
   "language": "python",
   "name": "python3"
  },
  "language_info": {
   "codemirror_mode": {
    "name": "ipython",
    "version": 3
   },
   "file_extension": ".py",
   "mimetype": "text/x-python",
   "name": "python",
   "nbconvert_exporter": "python",
   "pygments_lexer": "ipython3",
   "version": "3.7.1"
  }
 },
 "nbformat": 4,
 "nbformat_minor": 2
}
